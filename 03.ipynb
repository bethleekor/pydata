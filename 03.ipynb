{
 "cells": [
  {
   "cell_type": "markdown",
   "metadata": {},
   "source": [
    "### 분석사례2\n",
    "\"날씨가 어떤가요\""
   ]
  },
  {
   "cell_type": "code",
   "execution_count": 2,
   "metadata": {
    "collapsed": true
   },
   "outputs": [],
   "source": [
    "import pandas as pd"
   ]
  },
  {
   "cell_type": "code",
   "execution_count": 8,
   "metadata": {
    "collapsed": false
   },
   "outputs": [],
   "source": [
    "날씨 = pd.read_excel('share/data/weather.xlsx')"
   ]
  },
  {
   "cell_type": "code",
   "execution_count": 10,
   "metadata": {
    "collapsed": false
   },
   "outputs": [
    {
     "data": {
      "text/html": [
       "<div>\n",
       "<table border=\"1\" class=\"dataframe\">\n",
       "  <thead>\n",
       "    <tr style=\"text-align: right;\">\n",
       "      <th></th>\n",
       "      <th>location</th>\n",
       "      <th>date</th>\n",
       "      <th>weekDay</th>\n",
       "      <th>avgTemp</th>\n",
       "      <th>highestTemp</th>\n",
       "      <th>lowestTemp</th>\n",
       "      <th>precipitation</th>\n",
       "      <th>snow</th>\n",
       "      <th>windSpeed</th>\n",
       "      <th>humidity</th>\n",
       "      <th>cloud</th>\n",
       "      <th>dayTime</th>\n",
       "      <th>weather</th>\n",
       "    </tr>\n",
       "  </thead>\n",
       "  <tbody>\n",
       "    <tr>\n",
       "      <th>0</th>\n",
       "      <td>seoul</td>\n",
       "      <td>2013-08-01</td>\n",
       "      <td>thur</td>\n",
       "      <td>28.0</td>\n",
       "      <td>32.1</td>\n",
       "      <td>24.5</td>\n",
       "      <td>-</td>\n",
       "      <td>-</td>\n",
       "      <td>1.8</td>\n",
       "      <td>66</td>\n",
       "      <td>7.1</td>\n",
       "      <td>6.0</td>\n",
       "      <td>구름많음</td>\n",
       "    </tr>\n",
       "    <tr>\n",
       "      <th>1</th>\n",
       "      <td>seoul</td>\n",
       "      <td>2013-08-02</td>\n",
       "      <td>fri</td>\n",
       "      <td>27.4</td>\n",
       "      <td>29.3</td>\n",
       "      <td>25.2</td>\n",
       "      <td>7.5</td>\n",
       "      <td>-</td>\n",
       "      <td>2.1</td>\n",
       "      <td>79</td>\n",
       "      <td>9.1</td>\n",
       "      <td>0.9</td>\n",
       "      <td>흐림/안개/비</td>\n",
       "    </tr>\n",
       "    <tr>\n",
       "      <th>2</th>\n",
       "      <td>seoul</td>\n",
       "      <td>2013-08-03</td>\n",
       "      <td>sat</td>\n",
       "      <td>28.9</td>\n",
       "      <td>32.6</td>\n",
       "      <td>26.7</td>\n",
       "      <td>0.1</td>\n",
       "      <td>-</td>\n",
       "      <td>3.6</td>\n",
       "      <td>72</td>\n",
       "      <td>8.1</td>\n",
       "      <td>8.9</td>\n",
       "      <td>흐림/소나기</td>\n",
       "    </tr>\n",
       "  </tbody>\n",
       "</table>\n",
       "</div>"
      ],
      "text/plain": [
       "  location       date weekDay  avgTemp  highestTemp  lowestTemp precipitation  \\\n",
       "0    seoul 2013-08-01    thur     28.0         32.1        24.5             -   \n",
       "1    seoul 2013-08-02     fri     27.4         29.3        25.2           7.5   \n",
       "2    seoul 2013-08-03     sat     28.9         32.6        26.7           0.1   \n",
       "\n",
       "  snow  windSpeed  humidity  cloud  dayTime  weather  \n",
       "0    -        1.8        66    7.1      6.0     구름많음  \n",
       "1    -        2.1        79    9.1      0.9  흐림/안개/비  \n",
       "2    -        3.6        72    8.1      8.9   흐림/소나기  "
      ]
     },
     "execution_count": 10,
     "metadata": {},
     "output_type": "execute_result"
    }
   ],
   "source": [
    "날씨[:3]"
   ]
  },
  {
   "cell_type": "code",
   "execution_count": 12,
   "metadata": {
    "collapsed": false
   },
   "outputs": [
    {
     "data": {
      "text/plain": [
       "1460"
      ]
     },
     "execution_count": 12,
     "metadata": {},
     "output_type": "execute_result"
    }
   ],
   "source": [
    "len(날씨)"
   ]
  },
  {
   "cell_type": "code",
   "execution_count": 14,
   "metadata": {
    "collapsed": false
   },
   "outputs": [
    {
     "name": "stdout",
     "output_type": "stream",
     "text": [
      "<class 'pandas.core.frame.DataFrame'>\n",
      "Int64Index: 1460 entries, 0 to 1459\n",
      "Data columns (total 13 columns):\n",
      "location         1460 non-null object\n",
      "date             1460 non-null datetime64[ns]\n",
      "weekDay          1460 non-null object\n",
      "avgTemp          1460 non-null float64\n",
      "highestTemp      1460 non-null float64\n",
      "lowestTemp       1460 non-null float64\n",
      "precipitation    1460 non-null object\n",
      "snow             1460 non-null object\n",
      "windSpeed        1460 non-null float64\n",
      "humidity         1460 non-null int64\n",
      "cloud            1460 non-null float64\n",
      "dayTime          1460 non-null float64\n",
      "weather          1460 non-null object\n",
      "dtypes: datetime64[ns](1), float64(6), int64(1), object(5)\n",
      "memory usage: 159.7+ KB\n"
     ]
    }
   ],
   "source": [
    "날씨.info()"
   ]
  },
  {
   "cell_type": "markdown",
   "metadata": {},
   "source": [
    "열에 들어 있는 값들의 종류와 등장하는 횟수, 즉 도수 집계"
   ]
  },
  {
   "cell_type": "code",
   "execution_count": 16,
   "metadata": {
    "collapsed": false
   },
   "outputs": [],
   "source": [
    "지역 = 날씨['location']"
   ]
  },
  {
   "cell_type": "code",
   "execution_count": 18,
   "metadata": {
    "collapsed": false
   },
   "outputs": [
    {
     "data": {
      "text/plain": [
       "seoul    730\n",
       "suwon    730\n",
       "Name: location, dtype: int64"
      ]
     },
     "execution_count": 18,
     "metadata": {},
     "output_type": "execute_result"
    }
   ],
   "source": [
    "지역.value_counts()"
   ]
  },
  {
   "cell_type": "markdown",
   "metadata": {},
   "source": [
    "지역별로 날씨 자료선택"
   ]
  },
  {
   "cell_type": "code",
   "execution_count": 20,
   "metadata": {
    "collapsed": false
   },
   "outputs": [
    {
     "data": {
      "text/plain": [
       "0    seoul\n",
       "1    seoul\n",
       "2    seoul\n",
       "Name: location, dtype: object"
      ]
     },
     "execution_count": 20,
     "metadata": {},
     "output_type": "execute_result"
    }
   ],
   "source": [
    "지역[:3]"
   ]
  },
  {
   "cell_type": "code",
   "execution_count": 22,
   "metadata": {
    "collapsed": false
   },
   "outputs": [],
   "source": [
    "서울인가 = 지역 == 'seoul'"
   ]
  },
  {
   "cell_type": "code",
   "execution_count": 24,
   "metadata": {
    "collapsed": false
   },
   "outputs": [],
   "source": [
    "서울날씨 = 날씨[서울인가]"
   ]
  },
  {
   "cell_type": "code",
   "execution_count": 25,
   "metadata": {
    "collapsed": false
   },
   "outputs": [
    {
     "data": {
      "text/html": [
       "<div>\n",
       "<table border=\"1\" class=\"dataframe\">\n",
       "  <thead>\n",
       "    <tr style=\"text-align: right;\">\n",
       "      <th></th>\n",
       "      <th>location</th>\n",
       "      <th>date</th>\n",
       "      <th>weekDay</th>\n",
       "      <th>avgTemp</th>\n",
       "      <th>highestTemp</th>\n",
       "      <th>lowestTemp</th>\n",
       "      <th>precipitation</th>\n",
       "      <th>snow</th>\n",
       "      <th>windSpeed</th>\n",
       "      <th>humidity</th>\n",
       "      <th>cloud</th>\n",
       "      <th>dayTime</th>\n",
       "      <th>weather</th>\n",
       "    </tr>\n",
       "  </thead>\n",
       "  <tbody>\n",
       "    <tr>\n",
       "      <th>1245</th>\n",
       "      <td>seoul</td>\n",
       "      <td>2015-07-29</td>\n",
       "      <td>wed</td>\n",
       "      <td>26.7</td>\n",
       "      <td>28.8</td>\n",
       "      <td>24.8</td>\n",
       "      <td>4</td>\n",
       "      <td>-</td>\n",
       "      <td>2.5</td>\n",
       "      <td>83</td>\n",
       "      <td>8.4</td>\n",
       "      <td>0.2</td>\n",
       "      <td>흐림/비/안개</td>\n",
       "    </tr>\n",
       "    <tr>\n",
       "      <th>1246</th>\n",
       "      <td>seoul</td>\n",
       "      <td>2015-07-30</td>\n",
       "      <td>thur</td>\n",
       "      <td>28.6</td>\n",
       "      <td>33.1</td>\n",
       "      <td>25.5</td>\n",
       "      <td>-</td>\n",
       "      <td>-</td>\n",
       "      <td>3.4</td>\n",
       "      <td>76</td>\n",
       "      <td>6.9</td>\n",
       "      <td>7.9</td>\n",
       "      <td>구름많음/안개</td>\n",
       "    </tr>\n",
       "    <tr>\n",
       "      <th>1247</th>\n",
       "      <td>seoul</td>\n",
       "      <td>2015-07-31</td>\n",
       "      <td>fri</td>\n",
       "      <td>27.9</td>\n",
       "      <td>32.4</td>\n",
       "      <td>26.2</td>\n",
       "      <td>-</td>\n",
       "      <td>-</td>\n",
       "      <td>2.7</td>\n",
       "      <td>74</td>\n",
       "      <td>6.6</td>\n",
       "      <td>6.7</td>\n",
       "      <td>구름많음/안개</td>\n",
       "    </tr>\n",
       "  </tbody>\n",
       "</table>\n",
       "</div>"
      ],
      "text/plain": [
       "     location       date weekDay  avgTemp  highestTemp  lowestTemp  \\\n",
       "1245    seoul 2015-07-29     wed     26.7         28.8        24.8   \n",
       "1246    seoul 2015-07-30    thur     28.6         33.1        25.5   \n",
       "1247    seoul 2015-07-31     fri     27.9         32.4        26.2   \n",
       "\n",
       "     precipitation snow  windSpeed  humidity  cloud  dayTime  weather  \n",
       "1245             4    -        2.5        83    8.4      0.2  흐림/비/안개  \n",
       "1246             -    -        3.4        76    6.9      7.9  구름많음/안개  \n",
       "1247             -    -        2.7        74    6.6      6.7  구름많음/안개  "
      ]
     },
     "execution_count": 25,
     "metadata": {},
     "output_type": "execute_result"
    }
   ],
   "source": [
    "서울날씨[-3:]"
   ]
  },
  {
   "cell_type": "code",
   "execution_count": 26,
   "metadata": {
    "collapsed": false
   },
   "outputs": [
    {
     "data": {
      "text/plain": [
       "seoul    730\n",
       "Name: location, dtype: int64"
      ]
     },
     "execution_count": 26,
     "metadata": {},
     "output_type": "execute_result"
    }
   ],
   "source": [
    "서울날씨['location'].value_counts()"
   ]
  },
  {
   "cell_type": "markdown",
   "metadata": {},
   "source": [
    "수원 지역 날씨만 선택하여 수원날시에 저장"
   ]
  },
  {
   "cell_type": "code",
   "execution_count": 27,
   "metadata": {
    "collapsed": true
   },
   "outputs": [],
   "source": [
    "수원인가 = 지역 == 'suwon'"
   ]
  },
  {
   "cell_type": "code",
   "execution_count": 28,
   "metadata": {
    "collapsed": true
   },
   "outputs": [],
   "source": [
    "수원날씨 = 날씨[수원인가]"
   ]
  },
  {
   "cell_type": "code",
   "execution_count": 29,
   "metadata": {
    "collapsed": false
   },
   "outputs": [
    {
     "data": {
      "text/html": [
       "<div>\n",
       "<table border=\"1\" class=\"dataframe\">\n",
       "  <thead>\n",
       "    <tr style=\"text-align: right;\">\n",
       "      <th></th>\n",
       "      <th>location</th>\n",
       "      <th>date</th>\n",
       "      <th>weekDay</th>\n",
       "      <th>avgTemp</th>\n",
       "      <th>highestTemp</th>\n",
       "      <th>lowestTemp</th>\n",
       "      <th>precipitation</th>\n",
       "      <th>snow</th>\n",
       "      <th>windSpeed</th>\n",
       "      <th>humidity</th>\n",
       "      <th>cloud</th>\n",
       "      <th>dayTime</th>\n",
       "      <th>weather</th>\n",
       "    </tr>\n",
       "  </thead>\n",
       "  <tbody>\n",
       "    <tr>\n",
       "      <th>1457</th>\n",
       "      <td>suwon</td>\n",
       "      <td>2015-07-29</td>\n",
       "      <td>wed</td>\n",
       "      <td>26.3</td>\n",
       "      <td>29.6</td>\n",
       "      <td>23.9</td>\n",
       "      <td>64.7</td>\n",
       "      <td>-</td>\n",
       "      <td>1.3</td>\n",
       "      <td>93</td>\n",
       "      <td>8.5</td>\n",
       "      <td>0.2</td>\n",
       "      <td>흐림/비/안개/천둥번개</td>\n",
       "    </tr>\n",
       "    <tr>\n",
       "      <th>1458</th>\n",
       "      <td>suwon</td>\n",
       "      <td>2015-07-30</td>\n",
       "      <td>thur</td>\n",
       "      <td>28.5</td>\n",
       "      <td>33.7</td>\n",
       "      <td>25.3</td>\n",
       "      <td>-</td>\n",
       "      <td>-</td>\n",
       "      <td>2.2</td>\n",
       "      <td>87</td>\n",
       "      <td>6.8</td>\n",
       "      <td>7.6</td>\n",
       "      <td>구름많음/안개</td>\n",
       "    </tr>\n",
       "    <tr>\n",
       "      <th>1459</th>\n",
       "      <td>suwon</td>\n",
       "      <td>2015-07-31</td>\n",
       "      <td>fri</td>\n",
       "      <td>27.6</td>\n",
       "      <td>32.8</td>\n",
       "      <td>25.2</td>\n",
       "      <td>-</td>\n",
       "      <td>-</td>\n",
       "      <td>1.8</td>\n",
       "      <td>85</td>\n",
       "      <td>7.1</td>\n",
       "      <td>7.1</td>\n",
       "      <td>구름많음/안개</td>\n",
       "    </tr>\n",
       "  </tbody>\n",
       "</table>\n",
       "</div>"
      ],
      "text/plain": [
       "     location       date weekDay  avgTemp  highestTemp  lowestTemp  \\\n",
       "1457    suwon 2015-07-29     wed     26.3         29.6        23.9   \n",
       "1458    suwon 2015-07-30    thur     28.5         33.7        25.3   \n",
       "1459    suwon 2015-07-31     fri     27.6         32.8        25.2   \n",
       "\n",
       "     precipitation snow  windSpeed  humidity  cloud  dayTime       weather  \n",
       "1457          64.7    -        1.3        93    8.5      0.2  흐림/비/안개/천둥번개  \n",
       "1458             -    -        2.2        87    6.8      7.6       구름많음/안개  \n",
       "1459             -    -        1.8        85    7.1      7.1       구름많음/안개  "
      ]
     },
     "execution_count": 29,
     "metadata": {},
     "output_type": "execute_result"
    }
   ],
   "source": [
    "수원날씨[-3:]"
   ]
  },
  {
   "cell_type": "code",
   "execution_count": 31,
   "metadata": {
    "collapsed": false
   },
   "outputs": [
    {
     "data": {
      "text/plain": [
       "suwon    730\n",
       "Name: location, dtype: int64"
      ]
     },
     "execution_count": 31,
     "metadata": {},
     "output_type": "execute_result"
    }
   ],
   "source": [
    "수원날씨['location'].value_counts()"
   ]
  },
  {
   "cell_type": "code",
   "execution_count": 49,
   "metadata": {
    "collapsed": false
   },
   "outputs": [
    {
     "data": {
      "text/plain": [
       "avgTemp         9612.0\n",
       "highestTemp    13619.5\n",
       "lowestTemp      6221.4\n",
       "windSpeed       1349.5\n",
       "humidity       49506.0\n",
       "cloud           3417.3\n",
       "dayTime         4892.4\n",
       "dtype: float64"
      ]
     },
     "execution_count": 49,
     "metadata": {},
     "output_type": "execute_result"
    }
   ],
   "source": [
    "수원평균 = 수원날씨.sum()\n",
    "수원평균\n",
    "#수원일평균온도 = 수원날씨['avgTemp']\n",
    "#수원더운날 = 수원일평균온도 > 수원평균\n",
    "#수원더운날씨 = 수원날씨[수원더운날]\n",
    "#수원더운날씨[:3]\n",
    "#수원더운날씨 = 수원날씨[수원날씨['avgTemp']> 수원평균]"
   ]
  },
  {
   "cell_type": "markdown",
   "metadata": {},
   "source": [
    "요일별 지역별 날씨"
   ]
  },
  {
   "cell_type": "markdown",
   "metadata": {},
   "source": [
    "요일별 지역별 일평균기온의 (평균)"
   ]
  },
  {
   "cell_type": "code",
   "execution_count": 44,
   "metadata": {
    "collapsed": false
   },
   "outputs": [
    {
     "data": {
      "text/html": [
       "<div>\n",
       "<table border=\"1\" class=\"dataframe\">\n",
       "  <thead>\n",
       "    <tr style=\"text-align: right;\">\n",
       "      <th>location</th>\n",
       "      <th>seoul</th>\n",
       "      <th>suwon</th>\n",
       "    </tr>\n",
       "    <tr>\n",
       "      <th>weekDay</th>\n",
       "      <th></th>\n",
       "      <th></th>\n",
       "    </tr>\n",
       "  </thead>\n",
       "  <tbody>\n",
       "    <tr>\n",
       "      <th>fri</th>\n",
       "      <td>13.330476</td>\n",
       "      <td>13.135238</td>\n",
       "    </tr>\n",
       "    <tr>\n",
       "      <th>mon</th>\n",
       "      <td>13.366346</td>\n",
       "      <td>13.239423</td>\n",
       "    </tr>\n",
       "    <tr>\n",
       "      <th>sat</th>\n",
       "      <td>13.725962</td>\n",
       "      <td>13.375000</td>\n",
       "    </tr>\n",
       "    <tr>\n",
       "      <th>sun</th>\n",
       "      <td>13.588462</td>\n",
       "      <td>13.374038</td>\n",
       "    </tr>\n",
       "    <tr>\n",
       "      <th>thur</th>\n",
       "      <td>13.208571</td>\n",
       "      <td>13.053333</td>\n",
       "    </tr>\n",
       "    <tr>\n",
       "      <th>tue</th>\n",
       "      <td>13.083654</td>\n",
       "      <td>12.900000</td>\n",
       "    </tr>\n",
       "    <tr>\n",
       "      <th>wed</th>\n",
       "      <td>13.257692</td>\n",
       "      <td>13.094231</td>\n",
       "    </tr>\n",
       "  </tbody>\n",
       "</table>\n",
       "</div>"
      ],
      "text/plain": [
       "location      seoul      suwon\n",
       "weekDay                       \n",
       "fri       13.330476  13.135238\n",
       "mon       13.366346  13.239423\n",
       "sat       13.725962  13.375000\n",
       "sun       13.588462  13.374038\n",
       "thur      13.208571  13.053333\n",
       "tue       13.083654  12.900000\n",
       "wed       13.257692  13.094231"
      ]
     },
     "execution_count": 44,
     "metadata": {},
     "output_type": "execute_result"
    }
   ],
   "source": [
    "날씨.pivot_table('avgTemp', index='weekDay', columns='location')"
   ]
  },
  {
   "cell_type": "code",
   "execution_count": 45,
   "metadata": {
    "collapsed": true
   },
   "outputs": [],
   "source": [
    "요일별지역별_평균온도 = 날씨.pivot_table('avgTemp', index='weekDay', columns='location')"
   ]
  },
  {
   "cell_type": "code",
   "execution_count": 46,
   "metadata": {
    "collapsed": true
   },
   "outputs": [],
   "source": [
    "%matplotlib inline"
   ]
  },
  {
   "cell_type": "code",
   "execution_count": 47,
   "metadata": {
    "collapsed": false
   },
   "outputs": [
    {
     "data": {
      "text/plain": [
       "<matplotlib.axes.AxesSubplot at 0x7f9bfe0d7048>"
      ]
     },
     "execution_count": 47,
     "metadata": {},
     "output_type": "execute_result"
    },
    {
     "data": {
      "image/png": "[encoded data removed]",
      "text/plain": [
       "<matplotlib.figure.Figure at 0x7f9bfa502198>"
      ]
     },
     "metadata": {},
     "output_type": "display_data"
    }
   ],
   "source": [
    "요일별지역별_평균온도.plot()"
   ]
  },
  {
   "cell_type": "markdown",
   "metadata": {},
   "source": [
    "그런데 만약 요일 정보를 다음 열이 없었다면?"
   ]
  },
  {
   "cell_type": "code",
   "execution_count": 50,
   "metadata": {
    "collapsed": false
   },
   "outputs": [
    {
     "data": {
      "text/plain": [
       "0   2013-08-01\n",
       "1   2013-08-02\n",
       "2   2013-08-03\n",
       "Name: date, dtype: datetime64[ns]"
      ]
     },
     "execution_count": 50,
     "metadata": {},
     "output_type": "execute_result"
    }
   ],
   "source": [
    "날씨.date[:3]"
   ]
  },
  {
   "cell_type": "code",
   "execution_count": 55,
   "metadata": {
    "collapsed": false
   },
   "outputs": [],
   "source": [
    "요일알아내기 = lambda 날짜: 날짜.weekday()\n",
    "요일 = 날씨.date.map(요일알아내기)"
   ]
  },
  {
   "cell_type": "code",
   "execution_count": 54,
   "metadata": {
    "collapsed": false
   },
   "outputs": [
    {
     "data": {
      "text/plain": [
       "0    3\n",
       "1    4\n",
       "2    5\n",
       "Name: date, dtype: int64"
      ]
     },
     "execution_count": 54,
     "metadata": {},
     "output_type": "execute_result"
    }
   ],
   "source": [
    "요일[:3]"
   ]
  },
  {
   "cell_type": "code",
   "execution_count": 69,
   "metadata": {
    "collapsed": true
   },
   "outputs": [],
   "source": [
    "def 요일알아내기(날짜):\n",
    "    return 날짜.weekday()\n",
    "\n",
    "요일 = 날씨.date.map(요일알아내기)"
   ]
  },
  {
   "cell_type": "code",
   "execution_count": 70,
   "metadata": {
    "collapsed": false
   },
   "outputs": [
    {
     "data": {
      "text/plain": [
       "0    3\n",
       "1    4\n",
       "2    5\n",
       "Name: date, dtype: int64"
      ]
     },
     "execution_count": 70,
     "metadata": {},
     "output_type": "execute_result"
    }
   ],
   "source": [
    "요일[:3]"
   ]
  },
  {
   "cell_type": "code",
   "execution_count": 71,
   "metadata": {
    "collapsed": true
   },
   "outputs": [],
   "source": [
    "요일매핑 = {0:'월', 1:'화', 2:'수', 3:'목', 4:'금', 5:'토', 6:'일'}"
   ]
  },
  {
   "cell_type": "code",
   "execution_count": 72,
   "metadata": {
    "collapsed": false
   },
   "outputs": [],
   "source": [
    "요일 = 요일.map(요일매핑)"
   ]
  },
  {
   "cell_type": "markdown",
   "metadata": {},
   "source": [
    "추출한 요일 정보를 추출하고, 분류의 기준으로 활용하기"
   ]
  },
  {
   "cell_type": "code",
   "execution_count": 74,
   "metadata": {
    "collapsed": false
   },
   "outputs": [
    {
     "data": {
      "text/html": [
       "<div>\n",
       "<table border=\"1\" class=\"dataframe\">\n",
       "  <thead>\n",
       "    <tr style=\"text-align: right;\">\n",
       "      <th>location</th>\n",
       "      <th>seoul</th>\n",
       "      <th>suwon</th>\n",
       "    </tr>\n",
       "    <tr>\n",
       "      <th>date</th>\n",
       "      <th></th>\n",
       "      <th></th>\n",
       "    </tr>\n",
       "  </thead>\n",
       "  <tbody>\n",
       "    <tr>\n",
       "      <th>금</th>\n",
       "      <td>13.330476</td>\n",
       "      <td>13.135238</td>\n",
       "    </tr>\n",
       "    <tr>\n",
       "      <th>목</th>\n",
       "      <td>13.208571</td>\n",
       "      <td>13.053333</td>\n",
       "    </tr>\n",
       "    <tr>\n",
       "      <th>수</th>\n",
       "      <td>13.257692</td>\n",
       "      <td>13.094231</td>\n",
       "    </tr>\n",
       "    <tr>\n",
       "      <th>월</th>\n",
       "      <td>13.366346</td>\n",
       "      <td>13.239423</td>\n",
       "    </tr>\n",
       "    <tr>\n",
       "      <th>일</th>\n",
       "      <td>13.588462</td>\n",
       "      <td>13.374038</td>\n",
       "    </tr>\n",
       "    <tr>\n",
       "      <th>토</th>\n",
       "      <td>13.725962</td>\n",
       "      <td>13.375000</td>\n",
       "    </tr>\n",
       "    <tr>\n",
       "      <th>화</th>\n",
       "      <td>13.083654</td>\n",
       "      <td>12.900000</td>\n",
       "    </tr>\n",
       "  </tbody>\n",
       "</table>\n",
       "</div>"
      ],
      "text/plain": [
       "location      seoul      suwon\n",
       "date                          \n",
       "금         13.330476  13.135238\n",
       "목         13.208571  13.053333\n",
       "수         13.257692  13.094231\n",
       "월         13.366346  13.239423\n",
       "일         13.588462  13.374038\n",
       "토         13.725962  13.375000\n",
       "화         13.083654  12.900000"
      ]
     },
     "execution_count": 74,
     "metadata": {},
     "output_type": "execute_result"
    }
   ],
   "source": [
    "날씨.pivot_table('avgTemp', index=요일, columns='location')"
   ]
  },
  {
   "cell_type": "markdown",
   "metadata": {},
   "source": [
    "### 연습\n",
    "2016-07-15와 같은 형식의 날짜에 대해 다음을 수행\n",
    "1. 연도별 지역별 평균 기온\n",
    "2. 월별 지역별 평균기온\n",
    "3. 연도별월별 지역별 평균기온"
   ]
  },
  {
   "cell_type": "code",
   "execution_count": 75,
   "metadata": {
    "collapsed": true
   },
   "outputs": [],
   "source": [
    "def 연도추출(날짜):\n",
    "    return 날짜.year\n"
   ]
  },
  {
   "cell_type": "code",
   "execution_count": 82,
   "metadata": {
    "collapsed": false
   },
   "outputs": [
    {
     "data": {
      "text/plain": [
       "2013"
      ]
     },
     "execution_count": 82,
     "metadata": {},
     "output_type": "execute_result"
    }
   ],
   "source": [
    "첫날 = 날씨.date[0]\n",
    "첫날.year"
   ]
  },
  {
   "cell_type": "code",
   "execution_count": 83,
   "metadata": {
    "collapsed": false
   },
   "outputs": [
    {
     "data": {
      "text/plain": [
       "8"
      ]
     },
     "execution_count": 83,
     "metadata": {},
     "output_type": "execute_result"
    }
   ],
   "source": [
    "첫날.month"
   ]
  },
  {
   "cell_type": "code",
   "execution_count": 86,
   "metadata": {
    "collapsed": false
   },
   "outputs": [
    {
     "data": {
      "text/html": [
       "<div>\n",
       "<table border=\"1\" class=\"dataframe\">\n",
       "  <thead>\n",
       "    <tr style=\"text-align: right;\">\n",
       "      <th>location</th>\n",
       "      <th>seoul</th>\n",
       "      <th>suwon</th>\n",
       "    </tr>\n",
       "    <tr>\n",
       "      <th>date</th>\n",
       "      <th></th>\n",
       "      <th></th>\n",
       "    </tr>\n",
       "  </thead>\n",
       "  <tbody>\n",
       "    <tr>\n",
       "      <th>2013</th>\n",
       "      <td>14.241176</td>\n",
       "      <td>14.192810</td>\n",
       "    </tr>\n",
       "    <tr>\n",
       "      <th>2014</th>\n",
       "      <td>13.396712</td>\n",
       "      <td>13.145479</td>\n",
       "    </tr>\n",
       "    <tr>\n",
       "      <th>2015</th>\n",
       "      <td>12.680189</td>\n",
       "      <td>12.464151</td>\n",
       "    </tr>\n",
       "  </tbody>\n",
       "</table>\n",
       "</div>"
      ],
      "text/plain": [
       "location      seoul      suwon\n",
       "date                          \n",
       "2013      14.241176  14.192810\n",
       "2014      13.396712  13.145479\n",
       "2015      12.680189  12.464151"
      ]
     },
     "execution_count": 86,
     "metadata": {},
     "output_type": "execute_result"
    }
   ],
   "source": [
    "연도 = 날씨.date.map(연도추출)\n",
    "\n",
    "연도별지역별_평균기온 = 날씨.pivot_table('avgTemp', index=연도, columns='location')\n",
    "연도별지역별_평균기온[:3]"
   ]
  },
  {
   "cell_type": "code",
   "execution_count": 88,
   "metadata": {
    "collapsed": true
   },
   "outputs": [],
   "source": [
    "def 월추출(날짜) :\n",
    "    return 날짜.month"
   ]
  },
  {
   "cell_type": "code",
   "execution_count": 90,
   "metadata": {
    "collapsed": false
   },
   "outputs": [
    {
     "data": {
      "text/html": [
       "<div>\n",
       "<table border=\"1\" class=\"dataframe\">\n",
       "  <thead>\n",
       "    <tr style=\"text-align: right;\">\n",
       "      <th>location</th>\n",
       "      <th>seoul</th>\n",
       "      <th>suwon</th>\n",
       "    </tr>\n",
       "    <tr>\n",
       "      <th>date</th>\n",
       "      <th></th>\n",
       "      <th></th>\n",
       "    </tr>\n",
       "  </thead>\n",
       "  <tbody>\n",
       "    <tr>\n",
       "      <th>1</th>\n",
       "      <td>-0.808065</td>\n",
       "      <td>-0.572581</td>\n",
       "    </tr>\n",
       "    <tr>\n",
       "      <th>2</th>\n",
       "      <td>1.482143</td>\n",
       "      <td>1.689286</td>\n",
       "    </tr>\n",
       "    <tr>\n",
       "      <th>3</th>\n",
       "      <td>7.080645</td>\n",
       "      <td>6.766129</td>\n",
       "    </tr>\n",
       "  </tbody>\n",
       "</table>\n",
       "</div>"
      ],
      "text/plain": [
       "location     seoul     suwon\n",
       "date                        \n",
       "1        -0.808065 -0.572581\n",
       "2         1.482143  1.689286\n",
       "3         7.080645  6.766129"
      ]
     },
     "execution_count": 90,
     "metadata": {},
     "output_type": "execute_result"
    }
   ],
   "source": [
    "월 = 날씨.date.map(월추출)\n",
    "\n",
    "월별지역별평균기온 =  날씨.pivot_table('avgTemp', index=월, columns='location')\n",
    "월별지역별평균기온[:3]"
   ]
  },
  {
   "cell_type": "code",
   "execution_count": 113,
   "metadata": {
    "collapsed": true
   },
   "outputs": [],
   "source": [
    "def 연도월추출(날짜) :\n",
    "    return '{}-{:02d}'.format(날짜.year, 날짜.month)"
   ]
  },
  {
   "cell_type": "code",
   "execution_count": 116,
   "metadata": {
    "collapsed": false
   },
   "outputs": [
    {
     "data": {
      "text/html": [
       "<div>\n",
       "<table border=\"1\" class=\"dataframe\">\n",
       "  <thead>\n",
       "    <tr style=\"text-align: right;\">\n",
       "      <th>location</th>\n",
       "      <th>seoul</th>\n",
       "      <th>suwon</th>\n",
       "    </tr>\n",
       "    <tr>\n",
       "      <th>date</th>\n",
       "      <th></th>\n",
       "      <th></th>\n",
       "    </tr>\n",
       "  </thead>\n",
       "  <tbody>\n",
       "    <tr>\n",
       "      <th>2013-08</th>\n",
       "      <td>27.696774</td>\n",
       "      <td>27.380645</td>\n",
       "    </tr>\n",
       "    <tr>\n",
       "      <th>2013-09</th>\n",
       "      <td>21.753333</td>\n",
       "      <td>21.720000</td>\n",
       "    </tr>\n",
       "    <tr>\n",
       "      <th>2013-10</th>\n",
       "      <td>15.774194</td>\n",
       "      <td>15.700000</td>\n",
       "    </tr>\n",
       "  </tbody>\n",
       "</table>\n",
       "</div>"
      ],
      "text/plain": [
       "location      seoul      suwon\n",
       "date                          \n",
       "2013-08   27.696774  27.380645\n",
       "2013-09   21.753333  21.720000\n",
       "2013-10   15.774194  15.700000"
      ]
     },
     "execution_count": 116,
     "metadata": {},
     "output_type": "execute_result"
    }
   ],
   "source": [
    "연도월 = 날씨.date.map(연도월추출)\n",
    "\n",
    "연도별월별지역별평균기온 =  날씨.pivot_table('avgTemp', index=연도월, columns='location')\n",
    "연도별월별지역별평균기온[:3]"
   ]
  },
  {
   "cell_type": "code",
   "execution_count": 118,
   "metadata": {
    "collapsed": false
   },
   "outputs": [
    {
     "data": {
      "text/html": [
       "<div>\n",
       "<table border=\"1\" class=\"dataframe\">\n",
       "  <thead>\n",
       "    <tr style=\"text-align: right;\">\n",
       "      <th></th>\n",
       "      <th>location</th>\n",
       "      <th>date</th>\n",
       "      <th>weekDay</th>\n",
       "      <th>avgTemp</th>\n",
       "      <th>highestTemp</th>\n",
       "      <th>lowestTemp</th>\n",
       "      <th>precipitation</th>\n",
       "      <th>snow</th>\n",
       "      <th>windSpeed</th>\n",
       "      <th>humidity</th>\n",
       "      <th>cloud</th>\n",
       "      <th>dayTime</th>\n",
       "      <th>weather</th>\n",
       "    </tr>\n",
       "  </thead>\n",
       "  <tbody>\n",
       "    <tr>\n",
       "      <th>0</th>\n",
       "      <td>seoul</td>\n",
       "      <td>2013-08-01</td>\n",
       "      <td>thur</td>\n",
       "      <td>28.0</td>\n",
       "      <td>32.1</td>\n",
       "      <td>24.5</td>\n",
       "      <td>-</td>\n",
       "      <td>-</td>\n",
       "      <td>1.8</td>\n",
       "      <td>66</td>\n",
       "      <td>7.1</td>\n",
       "      <td>6.0</td>\n",
       "      <td>구름많음</td>\n",
       "    </tr>\n",
       "    <tr>\n",
       "      <th>1</th>\n",
       "      <td>seoul</td>\n",
       "      <td>2013-08-02</td>\n",
       "      <td>fri</td>\n",
       "      <td>27.4</td>\n",
       "      <td>29.3</td>\n",
       "      <td>25.2</td>\n",
       "      <td>7.5</td>\n",
       "      <td>-</td>\n",
       "      <td>2.1</td>\n",
       "      <td>79</td>\n",
       "      <td>9.1</td>\n",
       "      <td>0.9</td>\n",
       "      <td>흐림/안개/비</td>\n",
       "    </tr>\n",
       "    <tr>\n",
       "      <th>2</th>\n",
       "      <td>seoul</td>\n",
       "      <td>2013-08-03</td>\n",
       "      <td>sat</td>\n",
       "      <td>28.9</td>\n",
       "      <td>32.6</td>\n",
       "      <td>26.7</td>\n",
       "      <td>0.1</td>\n",
       "      <td>-</td>\n",
       "      <td>3.6</td>\n",
       "      <td>72</td>\n",
       "      <td>8.1</td>\n",
       "      <td>8.9</td>\n",
       "      <td>흐림/소나기</td>\n",
       "    </tr>\n",
       "  </tbody>\n",
       "</table>\n",
       "</div>"
      ],
      "text/plain": [
       "  location       date weekDay  avgTemp  highestTemp  lowestTemp precipitation  \\\n",
       "0    seoul 2013-08-01    thur     28.0         32.1        24.5             -   \n",
       "1    seoul 2013-08-02     fri     27.4         29.3        25.2           7.5   \n",
       "2    seoul 2013-08-03     sat     28.9         32.6        26.7           0.1   \n",
       "\n",
       "  snow  windSpeed  humidity  cloud  dayTime  weather  \n",
       "0    -        1.8        66    7.1      6.0     구름많음  \n",
       "1    -        2.1        79    9.1      0.9  흐림/안개/비  \n",
       "2    -        3.6        72    8.1      8.9   흐림/소나기  "
      ]
     },
     "execution_count": 118,
     "metadata": {},
     "output_type": "execute_result"
    }
   ],
   "source": [
    "날씨[:3]"
   ]
  },
  {
   "cell_type": "code",
   "execution_count": 122,
   "metadata": {
    "collapsed": false
   },
   "outputs": [
    {
     "data": {
      "text/plain": [
       "0       구름많음\n",
       "1    흐림/안개/비\n",
       "2     흐림/소나기\n",
       "Name: weather, dtype: object"
      ]
     },
     "execution_count": 122,
     "metadata": {},
     "output_type": "execute_result"
    }
   ],
   "source": [
    "날씨['weather'][:3]"
   ]
  },
  {
   "cell_type": "code",
   "execution_count": 124,
   "metadata": {
    "collapsed": false
   },
   "outputs": [
    {
     "data": {
      "text/plain": [
       "0       구름많음\n",
       "1    흐림/안개/비\n",
       "2     흐림/소나기\n",
       "Name: weather, dtype: object"
      ]
     },
     "execution_count": 124,
     "metadata": {},
     "output_type": "execute_result"
    }
   ],
   "source": [
    "날씨.weather[:3] #컬럼명에 띄어쓰기가 없는 경우에 가능"
   ]
  },
  {
   "cell_type": "code",
   "execution_count": 128,
   "metadata": {
    "collapsed": true
   },
   "outputs": [],
   "source": [
    "기상서술도수 = 날씨.weather.value_counts()"
   ]
  },
  {
   "cell_type": "code",
   "execution_count": 127,
   "metadata": {
    "collapsed": true
   },
   "outputs": [],
   "source": [
    "%matplotlib inline"
   ]
  },
  {
   "cell_type": "code",
   "execution_count": 131,
   "metadata": {
    "collapsed": true
   },
   "outputs": [
    {
     "data": {
      "text/plain": [
       "<matplotlib.axes.AxesSubplot at 0x7f9bf7bddf60>"
      ]
     },
     "execution_count": 131,
     "metadata": {},
     "output_type": "execute_result"
    },
    {
     "data": {
      "image/png": "[encoded data removed]",
      "text/plain": [
       "<matplotlib.figure.Figure at 0x7f9bf7bccf98>"
      ]
     },
     "metadata": {},
     "output_type": "display_data"
    }
   ],
   "source": [
    "기상서술도수[:5].plot(kind='barh')"
   ]
  },
  {
   "cell_type": "markdown",
   "metadata": {},
   "source": [
    "\"눈비가 온 날과 그렇지 않은 날로 딱 두개로 분류했으면 좋겠는데 ...\""
   ]
  },
  {
   "cell_type": "code",
   "execution_count": 136,
   "metadata": {
    "collapsed": false
   },
   "outputs": [
    {
     "data": {
      "text/plain": [
       "0    False\n",
       "1     True\n",
       "2     True\n",
       "Name: weather, dtype: bool"
      ]
     },
     "execution_count": 136,
     "metadata": {},
     "output_type": "execute_result"
    }
   ],
   "source": [
    "눈비여부 = 날씨.weather.str.contains('비|눈|소나기')\n",
    "눈비여부[:3]"
   ]
  },
  {
   "cell_type": "code",
   "execution_count": 140,
   "metadata": {
    "collapsed": false
   },
   "outputs": [
    {
     "data": {
      "text/plain": [
       "False    1023\n",
       "True      437\n",
       "Name: weather, dtype: int64"
      ]
     },
     "execution_count": 140,
     "metadata": {},
     "output_type": "execute_result"
    }
   ],
   "source": [
    "눈비도수 = 눈비여부.value_counts()\n",
    "눈비도수"
   ]
  },
  {
   "cell_type": "code",
   "execution_count": 143,
   "metadata": {
    "collapsed": false
   },
   "outputs": [
    {
     "data": {
      "text/plain": [
       "29.93150684931507"
      ]
     },
     "execution_count": 143,
     "metadata": {},
     "output_type": "execute_result"
    }
   ],
   "source": [
    "눈비비율 = 눈비도수[True]/눈비도수.sum()*100\n",
    "눈비비율"
   ]
  },
  {
   "cell_type": "markdown",
   "metadata": {},
   "source": [
    "눈비 온 날과 그렇지 않은 날 지역별 평균 기온"
   ]
  },
  {
   "cell_type": "code",
   "execution_count": 147,
   "metadata": {
    "collapsed": false
   },
   "outputs": [],
   "source": [
    "지역별눈비여부별_평균기온 = 날씨.pivot_table('avgTemp', index='location', columns=눈비여부)\n",
    "지역별눈비여부별_평균기온 = 지역별눈비여부별_평균기온.rename(columns={False:'안옴', True:'눈비'})"
   ]
  },
  {
   "cell_type": "code",
   "execution_count": 149,
   "metadata": {
    "collapsed": false
   },
   "outputs": [
    {
     "data": {
      "text/html": [
       "<div>\n",
       "<table border=\"1\" class=\"dataframe\">\n",
       "  <thead>\n",
       "    <tr style=\"text-align: right;\">\n",
       "      <th>weather</th>\n",
       "      <th>안옴</th>\n",
       "      <th>눈비</th>\n",
       "    </tr>\n",
       "    <tr>\n",
       "      <th>location</th>\n",
       "      <th></th>\n",
       "      <th></th>\n",
       "    </tr>\n",
       "  </thead>\n",
       "  <tbody>\n",
       "    <tr>\n",
       "      <th>seoul</th>\n",
       "      <td>12.600394</td>\n",
       "      <td>15.105381</td>\n",
       "    </tr>\n",
       "    <tr>\n",
       "      <th>suwon</th>\n",
       "      <td>12.594380</td>\n",
       "      <td>14.548131</td>\n",
       "    </tr>\n",
       "  </tbody>\n",
       "</table>\n",
       "</div>"
      ],
      "text/plain": [
       "weather          안옴         눈비\n",
       "location                      \n",
       "seoul     12.600394  15.105381\n",
       "suwon     12.594380  14.548131"
      ]
     },
     "execution_count": 149,
     "metadata": {},
     "output_type": "execute_result"
    }
   ],
   "source": [
    "지역별눈비여부별_평균기온"
   ]
  },
  {
   "cell_type": "code",
   "execution_count": 150,
   "metadata": {
    "collapsed": false
   },
   "outputs": [
    {
     "data": {
      "text/plain": [
       "<matplotlib.axes.AxesSubplot at 0x7f9bf7b67668>"
      ]
     },
     "execution_count": 150,
     "metadata": {},
     "output_type": "execute_result"
    },
    {
     "data": {
      "image/png": "[encoded data removed]",
      "text/plain": [
       "<matplotlib.figure.Figure at 0x7f9bf7b6a208>"
      ]
     },
     "metadata": {},
     "output_type": "display_data"
    }
   ],
   "source": [
    "지역별눈비여부별_평균기온.plot(kind='bar')"
   ]
  }
 ],
 "metadata": {
  "kernelspec": {
   "display_name": "Python 3",
   "language": "python",
   "name": "python3"
  },
  "language_info": {
   "codemirror_mode": {
    "name": "ipython",
    "version": 3
   },
   "file_extension": ".py",
   "mimetype": "text/x-python",
   "name": "python",
   "nbconvert_exporter": "python",
   "pygments_lexer": "ipython3",
   "version": "3.4.0"
  }
 },
 "nbformat": 4,
 "nbformat_minor": 0
}
