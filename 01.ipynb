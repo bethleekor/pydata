{
 "cells": [
  {
   "cell_type": "code",
   "execution_count": 8,
   "metadata": {
    "collapsed": false
   },
   "outputs": [
    {
     "name": "stdout",
     "output_type": "stream",
     "text": [
      "hello world\n"
     ]
    }
   ],
   "source": [
    "hello = 'hello world'\n",
    "print (hello)"
   ]
  },
  {
   "cell_type": "code",
   "execution_count": 9,
   "metadata": {
    "collapsed": false
   },
   "outputs": [
    {
     "name": "stdout",
     "output_type": "stream",
     "text": [
      "hello world nice to meet to you\n"
     ]
    }
   ],
   "source": [
    "hello += ' nice to meet to you'\n",
    "print(hello)"
   ]
  },
  {
   "cell_type": "raw",
   "metadata": {},
   "source": [
    "### 경로 파일 읽어서 한줄씩 출력\n",
    "1. 각 줄의 필드는 쉼표로 구분되어 이다. 각 줄의 두번째 필드의 값만 출력"
   ]
  },
  {
   "cell_type": "code",
   "execution_count": 10,
   "metadata": {
    "collapsed": true
   },
   "outputs": [],
   "source": [
    "location = 'share/data/geeks.csv'"
   ]
  },
  {
   "cell_type": "code",
   "execution_count": 11,
   "metadata": {
    "collapsed": true
   },
   "outputs": [],
   "source": [
    "file = open(location, 'r', encoding='utf-8')"
   ]
  },
  {
   "cell_type": "code",
   "execution_count": 12,
   "metadata": {
    "collapsed": false
   },
   "outputs": [
    {
     "name": "stdout",
     "output_type": "stream",
     "text": [
      "이름, 직업, 국적, 트위터, 생년월일\n",
      "\n",
      "이성주, 컴퓨터 프로그래머/데이터 과학자, 대한민국, @LeeSeongjoo, 1982-12-27\n",
      "\n",
      "Rossum, 컴퓨터 프로그래머, 네덜란드, @gvanrossum, 1956-01-31\n",
      "\n",
      "Turing, 컴퓨터과학자, 영국,, 1912-06-23\n",
      "\n"
     ]
    }
   ],
   "source": [
    "for line in file :\n",
    "    print(line)\n",
    "file.close()"
   ]
  },
  {
   "cell_type": "code",
   "execution_count": null,
   "metadata": {
    "collapsed": false
   },
   "outputs": [
    {
     "name": "stdout",
     "output_type": "stream",
     "text": [
      " 직업\n",
      " 컴퓨터 프로그래머/데이터 과학자\n",
      " 컴퓨터 프로그래머\n",
      " 컴퓨터과학자\n"
     ]
    }
   ],
   "source": [
    "file = open(location, 'r', encoding='utf-8')\n",
    "\n",
    "for line in file :\n",
    "    columns = line.split(',')\n",
    "    print(columns[1])\n",
    "file.close()"
   ]
  },
  {
   "cell_type": "markdown",
   "metadata": {},
   "source": [
    "### 커널"
   ]
  },
  {
   "cell_type": "code",
   "execution_count": null,
   "metadata": {
    "collapsed": false
   },
   "outputs": [],
   "source": [
    "trueLove = True\n",
    "while trueLove:\n",
    "    pass"
   ]
  },
  {
   "cell_type": "code",
   "execution_count": null,
   "metadata": {
    "collapsed": true
   },
   "outputs": [],
   "source": []
  }
 ],
 "metadata": {
  "kernelspec": {
   "display_name": "Python 3",
   "language": "python",
   "name": "python3"
  },
  "language_info": {
   "codemirror_mode": {
    "name": "ipython",
    "version": 3
   },
   "file_extension": ".py",
   "mimetype": "text/x-python",
   "name": "python",
   "nbconvert_exporter": "python",
   "pygments_lexer": "ipython3",
   "version": "3.4.0"
  }
 },
 "nbformat": 4,
 "nbformat_minor": 0
}
